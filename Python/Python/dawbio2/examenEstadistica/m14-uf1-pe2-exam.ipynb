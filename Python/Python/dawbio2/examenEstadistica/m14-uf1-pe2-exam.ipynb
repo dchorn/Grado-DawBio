{
 "cells": [
  {
   "cell_type": "markdown",
   "id": "012b2c9c-c595-4e1e-8b67-9abccd1b5f40",
   "metadata": {},
   "source": [
    "# Prova escrita 2 - Estadística.\n",
    "\n",
    "La WHO (OMS) ha quedat impressionada amb les pràctiques que heu realitzat a DAWBIO2 aquest curs i és per això \n",
    "que us encarrega resoldre preguntes importants sobre el dataset adjunt **incidence-rate-2021-raw.csv**\n",
    ", que recopila la incidència de les enfermetats en tot el món.\n",
    "Si extraieu gràfics, coneixement i conclusions rellevants segur que voldran contractar-vos. \n",
    "\n",
    "## Autor: <nom-cognoms>\n",
    "\n",
    "### Observacions:\n",
    "#### Consulta al professor quan hagis aconseguit cada gràfic que es demana.\n",
    "#### Els gràfics de la carpeta output són orientatius, no és necessari que us quedin igual; l'important és resoldre les preguntes.\n",
    "#### Pots utilitzar més d'un fitxer Jupyter Notebook per a fer l'examen si et va bé, o fitxers de Python.\n",
    "#### Molts ànims!\n",
    "\n",
    "## Part 1. Preguntes bàsiques, gestió de valors NA, gràfic bàsic i outliers. (3 punts)\n",
    "\n",
    "### 1.1 Preguntes bàsiques. 1 punts.\n",
    "### 1.2 Gràfic de files de cada GROUP. 1 punts.\n",
    "### 1.3 Gràfic d'outliers. 1 punts.\n",
    "\n",
    "Us donem el codi de la importació i el context de les dades.\n",
    "\n",
    "### Importació del Dataset.\n",
    "\n",
    "Mostrem les primeres files i els dtypes de cada columna."
   ]
  },
  {
   "cell_type": "code",
   "execution_count": 3,
   "id": "7cd312b8-1973-4a24-875c-475c950f1f83",
   "metadata": {},
   "outputs": [
    {
     "name": "stderr",
     "output_type": "stream",
     "text": [
      "/home/mamorosal/anaconda3/envs/bio/lib/python3.10/site-packages/scipy/__init__.py:146: UserWarning: A NumPy version >=1.16.5 and <1.23.0 is required for this version of SciPy (detected version 1.23.1\n",
      "  warnings.warn(f\"A NumPy version >={np_minversion} and <{np_maxversion}\"\n"
     ]
    }
   ],
   "source": [
    "import numpy as np\n",
    "import pandas as pd\n",
    "import seaborn as sns\n",
    "import matplotlib.pyplot as plt\n",
    "import copy"
   ]
  },
  {
   "cell_type": "code",
   "execution_count": 4,
   "id": "aed1e284-f334-48af-a0a3-500de2f64e8d",
   "metadata": {},
   "outputs": [
    {
     "name": "stdout",
     "output_type": "stream",
     "text": [
      "GROUP                   object\n",
      "CODE                    object\n",
      "NAME                    object\n",
      "YEAR                     int64\n",
      "DISEASE                 object\n",
      "DISEASE_DESCRIPTION     object\n",
      "DENOMINATOR             object\n",
      "INCIDENCE_RATE         float64\n",
      "dtype: object\n",
      "        GROUP CODE   NAME  YEAR     DISEASE          DISEASE_DESCRIPTION  \\\n",
      "0   COUNTRIES  ABW  Aruba  2021         CRS  Congenital rubella syndrome   \n",
      "1   COUNTRIES  ABW  Aruba  2021  DIPHTHERIA                   Diphtheria   \n",
      "2   COUNTRIES  ABW  Aruba  2021     MEASLES                      Measles   \n",
      "3   COUNTRIES  ABW  Aruba  2021       MUMPS                        Mumps   \n",
      "4   COUNTRIES  ABW  Aruba  2021    NTETANUS             Neonatal tetanus   \n",
      "5   COUNTRIES  ABW  Aruba  2021   PERTUSSIS                    Pertussis   \n",
      "6   COUNTRIES  ABW  Aruba  2021       POLIO                Poliomyelitis   \n",
      "7   COUNTRIES  ABW  Aruba  2021     RUBELLA                      Rubella   \n",
      "8   COUNTRIES  ABW  Aruba  2021    TTETANUS                Total tetanus   \n",
      "9   COUNTRIES  ABW  Aruba  2021      YFEVER                 Yellow fever   \n",
      "10  COUNTRIES  ABW  Aruba  2019         CRS  Congenital rubella syndrome   \n",
      "11  COUNTRIES  ABW  Aruba  2019  DIPHTHERIA                   Diphtheria   \n",
      "12  COUNTRIES  ABW  Aruba  2019      JAPENC        Japanese encephalitis   \n",
      "13  COUNTRIES  ABW  Aruba  2019     MEASLES                      Measles   \n",
      "14  COUNTRIES  ABW  Aruba  2019       MUMPS                        Mumps   \n",
      "15  COUNTRIES  ABW  Aruba  2019    NTETANUS             Neonatal tetanus   \n",
      "16  COUNTRIES  ABW  Aruba  2019   PERTUSSIS                    Pertussis   \n",
      "17  COUNTRIES  ABW  Aruba  2019       POLIO                Poliomyelitis   \n",
      "18  COUNTRIES  ABW  Aruba  2019     RUBELLA                      Rubella   \n",
      "19  COUNTRIES  ABW  Aruba  2019      YFEVER                 Yellow fever   \n",
      "\n",
      "                       DENOMINATOR  INCIDENCE_RATE  \n",
      "0           per 10,000 live births             0.0  \n",
      "1   per 1,000,000 total population             0.0  \n",
      "2   per 1,000,000 total population             0.0  \n",
      "3   per 1,000,000 total population             0.0  \n",
      "4            per 1,000 live births             0.0  \n",
      "5   per 1,000,000 total population             0.0  \n",
      "6     per 1,000,000 <15 population             0.0  \n",
      "7   per 1,000,000 total population             0.0  \n",
      "8   per 1,000,000 total population             0.0  \n",
      "9   per 1,000,000 total population             0.0  \n",
      "10          per 10,000 live births             0.0  \n",
      "11  per 1,000,000 total population             0.0  \n",
      "12  per 1,000,000 total population             NaN  \n",
      "13  per 1,000,000 total population             9.4  \n",
      "14  per 1,000,000 total population             9.4  \n",
      "15           per 1,000 live births             0.0  \n",
      "16  per 1,000,000 total population             0.0  \n",
      "17    per 1,000,000 <15 population             0.0  \n",
      "18  per 1,000,000 total population             0.0  \n",
      "19  per 1,000,000 total population             0.0  \n"
     ]
    }
   ],
   "source": [
    "incidence_raw = pd.read_csv(\"incidence-rate-2021-raw.csv\", sep=';', decimal=\".\")\n",
    "\n",
    "incidence_new = copy.deepcopy(incidence_raw)\n",
    "\n",
    "print(incidence_raw.dtypes)\n",
    "\n",
    "print(incidence_raw.head(20))"
   ]
  },
  {
   "cell_type": "markdown",
   "id": "e31cb267-68e4-4fdb-85f2-6b9d7d073cc4",
   "metadata": {},
   "source": [
    "### Pregunta 1.1 -> Preguntes bàsiques: files, tipus de dades, NA's\n",
    "\n",
    "#### Explicació del context. Què son aquestes dades? Posar referències.\n",
    "\n",
    "Representen els ratios d'incidencia de casos de diferents enfermedades contagioses en molts països. \n",
    "Aquest ratio està representat pel camp **INCIDENCE_RATE.**\n",
    "\n",
    "S'utilitzen diverses maneres de calcular aquestes ratios, ho indica el camp **DENOMINATOR.**\n",
    "No és el mateix mesurar 'per 1,000,000 total population' que ';per 1,000,000 <15 population'\n",
    "\n",
    "**GROUP** Pot ser un país, una agrupació de països o un estat.\n",
    "\n",
    "**CODE** és la abreviatura del nom del país/estat/grup **NAME** .\n",
    "\n",
    "**DISEASE** és el nom de la enfermetat.\n",
    "\n",
    "**YEAR**: Des de 1980 a 2021\n",
    "\n",
    "#### Referència:\n",
    "\n",
    "Dataset extret del portal Inmunization Data, de la WHO (la OMS)\n",
    "\n",
    "[https://immunizationdata.who.int/listing.html?topic=&location=]"
   ]
  },
  {
   "cell_type": "markdown",
   "id": "c647ef68-1bf1-4d17-80bb-339e4c993229",
   "metadata": {},
   "source": [
    "#### Quantes files té el dataset ? "
   ]
  },
  {
   "cell_type": "markdown",
   "id": "865ac829",
   "metadata": {},
   "source": [
    "### Llista els valors possibles que poden tenir els camps DENOMINATOR, el GROUP i el DISEASE."
   ]
  },
  {
   "cell_type": "markdown",
   "id": "9398166a",
   "metadata": {},
   "source": [
    "### Hi ha NAs? En quines columnes ? Quina columna en té més ? "
   ]
  },
  {
   "cell_type": "markdown",
   "id": "db2f09c2",
   "metadata": {},
   "source": [
    "### Quin percentatge de valors NA hi ha a la columna que en té més ? "
   ]
  },
  {
   "cell_type": "markdown",
   "id": "c4b77519",
   "metadata": {},
   "source": [
    "### Resultat final preguntes bàsiques. Guarda totes les files que tinguin com a GROUP=COUNTRIES en un fitxer, i com a GROUP=GLOBAL en un altre fitxer.\n",
    "\n",
    "<em> No oblidis eliminar la columna GROUP, ja que ja no servirà. </em>"
   ]
  },
  {
   "cell_type": "markdown",
   "id": "d7d760b0-d1a9-4fd7-bafa-b2b8af7bfdc5",
   "metadata": {},
   "source": [
    "### Pregunta 1.2 -> Crea un gràfic (de barres o circular) que mostri el número de files que hi ha de cada valor de la columna GROUP.\n",
    "\n",
    "Hi ha 3 tipus de GROUP: COUNTRIES, GLOBAL i WHO_REGIONS.\n"
   ]
  },
  {
   "cell_type": "markdown",
   "id": "a05cb88e-c05b-46f2-8f40-4cec26c66f02",
   "metadata": {},
   "source": [
    "### Pregunta 1.3 -> Gràfics d'Outliers de les enfermetats d'un país.\n",
    "\n",
    "**Des del dataframe resultant de la pregunta 1.1; o bé des del fitxer <em>incidence_rate_2021_countries.csv<em> crea un gràfic plotbox de les enfermetats d'un país (el que tu vulguis), únicament de les que es mesuren amb el denominador: 'per 1,000,000 total population'.**\n",
    "\n",
    "**Després, mostra les 5 files d'outliers més alts (les més allunyades de la mitjana)**\n"
   ]
  },
  {
   "cell_type": "markdown",
   "id": "80346a41",
   "metadata": {},
   "source": [
    "\n",
    "<em>Pista: Recomanem fer-lo amb seaborn, que permet seleccionar quina fila (x) i columna (y) volem posar al gràfic<em>"
   ]
  },
  {
   "cell_type": "markdown",
   "id": "ceb1f275-35b8-4fed-aae0-7d3d7dbfa043",
   "metadata": {},
   "source": [
    "## Part 2 - Fes dues gràfiques d'incidència de les enfermetats: (2,5 punts)\n",
    "\n",
    "### Una on es vegi la incidència de les enfermetats d'un país(el que tu vulguis) des del 1980 fins el 2021, ambdós inclosos.\n",
    "### Una altre on es vegi la incidència de les enfermetats a nivell global (files on el camp GROUP=GLOBAL, també dels anys 1980-2021 ambdós inclosos.\n",
    "\n",
    "### Filtrarem les enfermetats pels valors de la columna DENOMINATOR = 'per 1,000,000 total population' "
   ]
  },
  {
   "cell_type": "markdown",
   "id": "5cff9289",
   "metadata": {},
   "source": [
    "## Part 3. Crea un gràfic que serveixi per comparar les dades d'una enfermetat amb molta incidència (per exemple MEASLES) a una agrupació de països del món que tingui almenys 3 països. Afegeix una fila més (2,5 punts)\n",
    "\n",
    "Pots limitar els anys que apareixen al gràfic (pex 1980 - 1999) si creus que no aporten dades significatives.\n",
    "\n",
    "Exemple: Incidència del xarampió als països del sud del Mediterrani. ['Morocco', 'Algeria', 'Libya', 'Egypt', 'Jordan', 'Israel']"
   ]
  },
  {
   "cell_type": "markdown",
   "id": "a040e220-f3cd-4034-87e0-083018728bd4",
   "metadata": {},
   "source": [
    "## Part 4. Taula de coeficients de correlació entre enfermetats en un país. (2 punts)\n",
    "\n",
    "Ens demanen comparar la correlació entre 4 enfermetats amb força incidència; per saber si existeix correlació entre elles.\n",
    "\n",
    "Pots triar el país que vulguis on fer l'estudi; si no saps quin pots triar Espanya.\n",
    "\n",
    "Les enfermetats a estudiar són:\n",
    "\n",
    "1. PERTUSSIS\n",
    "2. MEASELS\n",
    "3. MUMPS\n",
    "4. RUBELLA\n",
    "\n",
    "#### Pistes\n",
    "* Tal i com estan organitzats els dataframes no ho podràs fer; hauràs de crear un altre dataframe que tingui una fila amb l'any, \n",
    "les demés 4 files els valors d'incidència de cada enfermetat.\n",
    "* Fixa't com ha de quedar la matriu, al fitxer q4_incidence_rate_matrix.csv\n",
    "* Us facilitem un mètode que, juntament amb les operacions de concaternació, us ajudarà a formar la matriu.\n",
    "* Un cop tinguis organitzada la matriu, el mètode <strong>corr</strong> és el que obté els coeficients de correlació valors entre (-1 , +1)\n"
   ]
  },
  {
   "cell_type": "markdown",
   "id": "ac0f67aa",
   "metadata": {},
   "source": [
    "#### Primer, creo 2 dataframes que tinguin el radi d'incidència per any de 2 enfermetats i després les fusiono en un únic dataframe, que és el que aplicaré el gràfic.\n",
    "\n",
    "Per facilitar aquesta creació creo una següent funció.\n",
    "\n",
    "La forma del dataframe resultat ha de tenir la següent estructura:\n"
   ]
  },
  {
   "cell_type": "code",
   "execution_count": 5,
   "id": "4c9739ad",
   "metadata": {},
   "outputs": [],
   "source": [
    "# Agafo el dataframe de les enfermetats a Espanya\n",
    "# df_incidence_countries_esp \n",
    "\n",
    "## Funció auxiliar que, donat el nom d'una enfermetat i el dataframe sencer,\n",
    "## et retorna un datafame amb 2 files, l'any i el incidence_rate de la enfermetat.\n",
    "def dataframe_incidence_rate_eachyear_bydisease(disease:str, df:pd.DataFrame):\n",
    "    result = df.query(\"NAME == 'Spain'\")\n",
    "    result = result.query(\"DISEASE == @disease\")\n",
    "    result = result.loc[:,['YEAR','INCIDENCE_RATE']]\n",
    "    result = result.set_index(\"YEAR\")\n",
    "    result = result.rename(columns={\"INCIDENCE_RATE\":disease})\n",
    "    return result\n",
    "\n",
    "# df_incidence_measels = dataframe_incidence_rate_eachyear_bydisease('MEASLES',df_incidence_countries_esp)\n",
    "# df_incidence_pertussis = dataframe_incidence_rate_eachyear_bydisease('PERTUSSIS',df_incidence_countries_esp)\n",
    "\n",
    "# corr_measels_pert = pd.concat([df_incidence_measels, df_incidence_pertussis], axis=1, join=\"inner\")"
   ]
  },
  {
   "cell_type": "markdown",
   "id": "cb15f9af",
   "metadata": {},
   "source": [
    "Un cop tenim els 4 dataframes, els podem concatenar per tal de tenir una matriu amb les incidències de cada enfermetat.\n",
    "\n",
    "Finalment, podem aplicar la funció corr per obtenir una matriu \n",
    "de la correlació entre cada variable, amb valors dins l'intèrval (-1, +1)"
   ]
  },
  {
   "cell_type": "markdown",
   "id": "0327ca20-e6c4-4635-b258-b064c191158d",
   "metadata": {},
   "source": [
    "### Creus que hi ha correlació entre aquestes 4 enfermetats ? "
   ]
  },
  {
   "cell_type": "markdown",
   "id": "45a94083",
   "metadata": {},
   "source": []
  }
 ],
 "metadata": {
  "kernelspec": {
   "display_name": "Python 3.10.6 ('bio')",
   "language": "python",
   "name": "python3"
  },
  "language_info": {
   "codemirror_mode": {
    "name": "ipython",
    "version": 3
   },
   "file_extension": ".py",
   "mimetype": "text/x-python",
   "name": "python",
   "nbconvert_exporter": "python",
   "pygments_lexer": "ipython3",
   "version": "3.10.6"
  },
  "toc-autonumbering": true,
  "vscode": {
   "interpreter": {
    "hash": "80d9a229293de82ff0a6cdcaeef08119522d819e34b64930a164959170ead25a"
   }
  }
 },
 "nbformat": 4,
 "nbformat_minor": 5
}
